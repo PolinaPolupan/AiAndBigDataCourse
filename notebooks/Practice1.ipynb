{
 "cells": [
  {
   "cell_type": "markdown",
   "source": [
    "# Practice 1"
   ],
   "metadata": {
    "collapsed": false,
    "pycharm": {
     "name": "#%% md\n"
    }
   }
  },
  {
   "cell_type": "markdown",
   "source": [
    "## Task 1.3"
   ],
   "metadata": {
    "collapsed": false,
    "pycharm": {
     "name": "#%% md\n"
    }
   }
  },
  {
   "cell_type": "code",
   "execution_count": 1,
   "outputs": [],
   "source": [
    "x = 5 >= 2\n",
    "A = {1, 3, 7, 8}\n",
    "B = {2, 4, 5, 10, 'apple'}\n",
    "C = A & B\n",
    "df = 'Антонова Антонина', 34, 'ж'\n",
    "z = 'type'\n",
    "D = [1, 'title', 1, 'content']"
   ],
   "metadata": {
    "collapsed": false,
    "pycharm": {
     "name": "#%%\n"
    }
   }
  },
  {
   "cell_type": "code",
   "execution_count": 2,
   "outputs": [
    {
     "name": "stdout",
     "output_type": "stream",
     "text": [
      "True | <class 'bool'> \n",
      " {8, 1, 3, 7} | <class 'set'> \n",
      " {2, 4, 5, 'apple', 10} | <class 'set'> \n",
      " set() | <class 'set'> \n",
      " ('Антонова Антонина', 34, 'ж') | <class 'tuple'> \n",
      " type | <class 'str'> \n",
      " [1, 'title', 1, 'content'] | <class 'list'> \n",
      "\n"
     ]
    }
   ],
   "source": [
    "print(x, '|', type(x), '\\n',\n",
    "      A, '|', type(A), '\\n',\n",
    "      B, '|', type(B), '\\n',\n",
    "      C, '|', type(C), '\\n',\n",
    "      df, '|', type(df), '\\n',\n",
    "      z, '|', type(z), '\\n',\n",
    "      D, '|', type(D), '\\n')"
   ],
   "metadata": {
    "collapsed": false,
    "pycharm": {
     "name": "#%%\n"
    }
   }
  },
  {
   "cell_type": "markdown",
   "source": [
    "## Task 2.1 - If/else branches"
   ],
   "metadata": {
    "collapsed": false,
    "pycharm": {
     "name": "#%% md\n"
    }
   }
  },
  {
   "cell_type": "code",
   "execution_count": 3,
   "outputs": [
    {
     "ename": "ValueError",
     "evalue": "invalid literal for int() with base 10: ''",
     "output_type": "error",
     "traceback": [
      "\u001B[1;31m---------------------------------------------------------------------------\u001B[0m",
      "\u001B[1;31mValueError\u001B[0m                                Traceback (most recent call last)",
      "Cell \u001B[1;32mIn[3], line 1\u001B[0m\n\u001B[1;32m----> 1\u001B[0m x \u001B[38;5;241m=\u001B[39m \u001B[38;5;28;43mint\u001B[39;49m\u001B[43m(\u001B[49m\u001B[38;5;28;43minput\u001B[39;49m\u001B[43m(\u001B[49m\u001B[43m)\u001B[49m\u001B[43m)\u001B[49m\n\u001B[0;32m      3\u001B[0m \u001B[38;5;28;01mif\u001B[39;00m x \u001B[38;5;241m<\u001B[39m \u001B[38;5;241m-\u001B[39m\u001B[38;5;241m5\u001B[39m: \u001B[38;5;28mprint\u001B[39m(\u001B[38;5;124m'\u001B[39m\u001B[38;5;124mx is in (-inf, -5)\u001B[39m\u001B[38;5;124m'\u001B[39m)\n\u001B[0;32m      4\u001B[0m \u001B[38;5;28;01melif\u001B[39;00m \u001B[38;5;241m-\u001B[39m\u001B[38;5;241m5\u001B[39m \u001B[38;5;241m<\u001B[39m\u001B[38;5;241m=\u001B[39m x \u001B[38;5;241m<\u001B[39m\u001B[38;5;241m=\u001B[39m \u001B[38;5;241m5\u001B[39m: \u001B[38;5;28mprint\u001B[39m(\u001B[38;5;124m'\u001B[39m\u001B[38;5;124mx is in [-5, 5]\u001B[39m\u001B[38;5;124m'\u001B[39m)\n",
      "\u001B[1;31mValueError\u001B[0m: invalid literal for int() with base 10: ''"
     ]
    }
   ],
   "source": [
    "x = int(input())\n",
    "\n",
    "if x < -5: print('x is in (-inf, -5)')\n",
    "elif -5 <= x <= 5: print('x is in [-5, 5]')\n",
    "else: print('x in (5, +inf)')"
   ],
   "metadata": {
    "collapsed": false,
    "pycharm": {
     "name": "#%%\n"
    }
   }
  },
  {
   "cell_type": "markdown",
   "source": [
    "## Task 3.1 - Cycles, arrays, slices"
   ],
   "metadata": {
    "collapsed": false,
    "pycharm": {
     "name": "#%% md\n"
    }
   }
  },
  {
   "cell_type": "markdown",
   "source": [
    "### Task 3.3.1"
   ],
   "metadata": {
    "collapsed": false,
    "pycharm": {
     "name": "#%% md\n"
    }
   }
  },
  {
   "cell_type": "code",
   "execution_count": null,
   "outputs": [],
   "source": [
    "x = 10\n",
    "while x > 0:\n",
    "    print(x)\n",
    "    x -= 3"
   ],
   "metadata": {
    "collapsed": false,
    "pycharm": {
     "name": "#%%\n"
    }
   }
  },
  {
   "cell_type": "markdown",
   "source": [
    "### Task 3.3.2"
   ],
   "metadata": {
    "collapsed": false,
    "pycharm": {
     "name": "#%% md\n"
    }
   }
  },
  {
   "cell_type": "code",
   "execution_count": null,
   "outputs": [],
   "source": [
    "features = ['first name', 'last name', 'sex', 'age']\n",
    "\n",
    "for feature in features:\n",
    "    print(feature)"
   ],
   "metadata": {
    "collapsed": false,
    "pycharm": {
     "name": "#%%\n"
    }
   }
  },
  {
   "cell_type": "markdown",
   "source": [
    "### Task 3.3.3"
   ],
   "metadata": {
    "collapsed": false,
    "pycharm": {
     "name": "#%% md\n"
    }
   }
  },
  {
   "cell_type": "code",
   "execution_count": null,
   "outputs": [],
   "source": [
    "a = range(2, 16, 1)\n",
    "print(list(a))"
   ],
   "metadata": {
    "collapsed": false,
    "pycharm": {
     "name": "#%%\n"
    }
   }
  },
  {
   "cell_type": "markdown",
   "source": [
    "### Task 3.3.4"
   ],
   "metadata": {
    "collapsed": false,
    "pycharm": {
     "name": "#%% md\n"
    }
   }
  },
  {
   "cell_type": "code",
   "execution_count": null,
   "outputs": [],
   "source": [
    "print(list(a[::-1]))"
   ],
   "metadata": {
    "collapsed": false,
    "pycharm": {
     "name": "#%%\n"
    }
   }
  },
  {
   "cell_type": "markdown",
   "source": [
    "### Task 3.3.5"
   ],
   "metadata": {
    "collapsed": false,
    "pycharm": {
     "name": "#%% md\n"
    }
   }
  },
  {
   "cell_type": "code",
   "execution_count": null,
   "outputs": [],
   "source": [
    "## Time O(n), Space O(1)\n",
    "\n",
    "a = list(range(0, 10, 1))\n",
    "\n",
    "evensLen = len(a) // 2\n",
    "oddsLen = len(a) - evensLen\n",
    "count = 1 if (evensLen > oddsLen) else 2\n",
    "\n",
    "print(a)\n",
    "\n",
    "for i in range(0, len(a) // 2, 2):\n",
    "    a[i], a[len(a) - count - i] = a[len(a) - count - i], a[i]\n",
    "\n",
    "print(a)\n"
   ],
   "metadata": {
    "collapsed": false,
    "pycharm": {
     "name": "#%%\n"
    }
   }
  },
  {
   "cell_type": "markdown",
   "source": [
    "## Task 4.1 - Libraries"
   ],
   "metadata": {
    "collapsed": false,
    "pycharm": {
     "name": "#%% md\n"
    }
   }
  },
  {
   "cell_type": "code",
   "execution_count": null,
   "outputs": [],
   "source": [
    "import numpy as np\n",
    "import matplotlib.pyplot as plt\n",
    "from scipy.integrate import trapezoid"
   ],
   "metadata": {
    "collapsed": false,
    "pycharm": {
     "name": "#%%\n"
    }
   }
  },
  {
   "cell_type": "markdown",
   "source": [
    "### Task 4.3.1"
   ],
   "metadata": {
    "collapsed": false,
    "pycharm": {
     "name": "#%% md\n"
    }
   }
  },
  {
   "cell_type": "code",
   "execution_count": null,
   "outputs": [],
   "source": [
    "arr = np.random.rand(5, 5)\n",
    "mean = np.mean(arr)\n",
    "median = np.median(arr)\n",
    "\n",
    "print('Mean: ' + str(mean) + \" | Median: \" + str(median))\n",
    "\n",
    "plt.hist(arr)\n",
    "plt.show()"
   ],
   "metadata": {
    "collapsed": false,
    "pycharm": {
     "name": "#%%\n"
    }
   }
  },
  {
   "cell_type": "markdown",
   "source": [
    "From the retrieved values of median and mean we can conclude that the values are uniformly distributed, because median and mean values are very close to each other"
   ],
   "metadata": {
    "collapsed": false,
    "pycharm": {
     "name": "#%% md\n"
    }
   }
  },
  {
   "cell_type": "markdown",
   "source": [
    "### Task 4.3.2"
   ],
   "metadata": {
    "collapsed": false,
    "pycharm": {
     "name": "#%% md\n"
    }
   }
  },
  {
   "cell_type": "code",
   "execution_count": null,
   "outputs": [],
   "source": [
    "x = np.arange(1, 10, 0.1)\n",
    "y = np.sqrt(1 + np.exp(np.sqrt(x)) + np.cos(x**2)) / np.abs(1 - np.sin(x)**3) \\\n",
    "    + np.log(np.abs(2 * x))"
   ],
   "metadata": {
    "collapsed": false,
    "pycharm": {
     "name": "#%%\n"
    }
   }
  },
  {
   "cell_type": "code",
   "execution_count": null,
   "outputs": [],
   "source": [
    "## Retrieve the first half of the array\n",
    "sub_x, _ = np.split(x, 2)\n",
    "sub_y, _ = np.split(y, 2)\n",
    "\n",
    "plt.subplot(1, 2, 1)\n",
    "plt.plot(x, y)\n",
    "\n",
    "plt.subplot(1, 2, 2)\n",
    "plt.plot(sub_x, sub_y, 'o')\n",
    "\n",
    "plt.show()"
   ],
   "metadata": {
    "collapsed": false,
    "pycharm": {
     "name": "#%%\n"
    }
   }
  },
  {
   "cell_type": "markdown",
   "source": [
    "### Task 4.3.3"
   ],
   "metadata": {
    "collapsed": false,
    "pycharm": {
     "name": "#%% md\n"
    }
   }
  },
  {
   "cell_type": "code",
   "execution_count": null,
   "outputs": [],
   "source": [
    "x = np.arange(0, 10, 1)\n",
    "y = np.abs(np.cos(x * np.exp(np.cos(x) + np.log(x + 1))))"
   ],
   "metadata": {
    "collapsed": false,
    "pycharm": {
     "name": "#%%\n"
    }
   }
  },
  {
   "cell_type": "code",
   "execution_count": null,
   "outputs": [],
   "source": [
    "plt.plot(x, y, 'r')\n",
    "plt.fill_between(x, y)\n",
    "plt.show()\n",
    "\n",
    "area = trapezoid(y)\n",
    "print('The area is: ' + str(area))"
   ],
   "metadata": {
    "collapsed": false,
    "pycharm": {
     "name": "#%%\n"
    }
   }
  },
  {
   "cell_type": "markdown",
   "source": [
    "### Task 4.3.4"
   ],
   "metadata": {
    "collapsed": false,
    "pycharm": {
     "name": "#%% md\n"
    }
   }
  },
  {
   "cell_type": "code",
   "execution_count": null,
   "outputs": [],
   "source": [
    "import pandas as pd"
   ],
   "metadata": {
    "collapsed": false,
    "pycharm": {
     "name": "#%%\n"
    }
   }
  },
  {
   "cell_type": "code",
   "execution_count": null,
   "outputs": [],
   "source": [
    "## Data is loaded from https://finance.yahoo.com\n",
    "\n",
    "files = {\"Apple\": \"../data/AAPL.csv\",\n",
    "         \"Google\": \"../data/GOOG.csv\",\n",
    "         \"Microsoft\": \"../data/MSFT.csv\"}\n",
    "\n",
    "for name, file in files.items():\n",
    "\n",
    "    df = pd.read_csv(file)\n",
    "\n",
    "    plt.title(name)\n",
    "\n",
    "    plt.subplot(4, 1, 1)\n",
    "    plt.xlabel(\"Date\")\n",
    "    plt.ylabel(\"Volume\")\n",
    "    plt.xticks([])\n",
    "    plt.plot(df.Date[::100], df.Volume[::100])\n",
    "\n",
    "    plt.subplot(4, 1, 2)\n",
    "    plt.ylabel(\"Open\")\n",
    "    plt.hist(df.Open[::100])\n",
    "\n",
    "    plt.subplot(4, 1, 3)\n",
    "    plt.ylabel(\"High\")\n",
    "    plt.hist(df.High[::100])\n",
    "\n",
    "    plt.subplot(4, 1, 4)\n",
    "    plt.ylabel(\"Low\")\n",
    "    plt.hist(df.Low[::100])\n",
    "\n",
    "    plt.show()"
   ],
   "metadata": {
    "collapsed": false,
    "pycharm": {
     "name": "#%%\n"
    }
   }
  },
  {
   "cell_type": "markdown",
   "source": [
    "### Task 4.3.5"
   ],
   "metadata": {
    "collapsed": false,
    "pycharm": {
     "name": "#%% md\n"
    }
   }
  },
  {
   "cell_type": "code",
   "execution_count": null,
   "outputs": [],
   "source": [
    "def add(x, y):\n",
    "    return x + y\n",
    "\n",
    "def subtract(x, y):\n",
    "    return x - y\n",
    "\n",
    "def multiply(x, y):\n",
    "    return x * y\n",
    "\n",
    "def divide(x, y):\n",
    "    if y == 0:\n",
    "        return \"Cannot divide by zero!\"\n",
    "    return x / y\n",
    "\n",
    "def exp(x, y):\n",
    "    return np.exp(x + y)\n",
    "\n",
    "def sin(x, y):\n",
    "    return  np.sin(x + y)\n",
    "\n",
    "def cos(x, y):\n",
    "    return np.cos(x + y)\n",
    "\n",
    "def power(x, y):\n",
    "    return x**y\n",
    "\n",
    "def calculator():\n",
    "    print(\"Select operation:\")\n",
    "    print(\"1. Add\")\n",
    "    print(\"2. Subtract\")\n",
    "    print(\"3. Multiply\")\n",
    "    print(\"4. Divide\")\n",
    "    print(\"5. Exp\")\n",
    "    print(\"6. Sin\")\n",
    "    print(\"7. Cos\")\n",
    "    print(\"8. Power\")\n",
    "\n",
    "    choice = input(\"Enter choice (1/2/3/4/5/6/7/8): \")\n",
    "\n",
    "    if choice in ['1', '2', '3', '4', '5', '6', '7']:\n",
    "        num1 = float(input(\"Enter first number: \"))\n",
    "        num2 = float(input(\"Enter second number: \"))\n",
    "\n",
    "        if choice == '1':\n",
    "            print(f\"{num1} + {num2} = {add(num1, num2)}\")\n",
    "        elif choice == '2':\n",
    "            print(f\"{num1} - {num2} = {subtract(num1, num2)}\")\n",
    "        elif choice == '3':\n",
    "            print(f\"{num1} * {num2} = {multiply(num1, num2)}\")\n",
    "        elif choice == '4':\n",
    "            print(f\"{num1} / {num2} = {divide(num1, num2)}\")\n",
    "        elif choice == '5':\n",
    "            print(f\"Exp: {exp(num1, num2)}\")\n",
    "        elif choice == '6':\n",
    "            print(f\"Sin: {sin(num1, num2)}\")\n",
    "        elif choice == '7':\n",
    "            print(f\"Cos: {cos(num1, num2)}\")\n",
    "        elif choice == '8':\n",
    "            print(f\"Power: {power(num1, num2)}\")\n",
    "    else:\n",
    "        print(\"Invalid input\")\n",
    "\n",
    "\n",
    "calculator()"
   ],
   "metadata": {
    "collapsed": false,
    "pycharm": {
     "name": "#%%\n"
    }
   }
  }
 ],
 "metadata": {
  "kernelspec": {
   "display_name": "Python 3",
   "language": "python",
   "name": "python3"
  },
  "language_info": {
   "codemirror_mode": {
    "name": "ipython",
    "version": 2
   },
   "file_extension": ".py",
   "mimetype": "text/x-python",
   "name": "python",
   "nbconvert_exporter": "python",
   "pygments_lexer": "ipython2",
   "version": "2.7.6"
  }
 },
 "nbformat": 4,
 "nbformat_minor": 0
}